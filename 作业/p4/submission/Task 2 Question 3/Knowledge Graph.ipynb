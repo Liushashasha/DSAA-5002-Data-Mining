{
 "cells": [
  {
   "cell_type": "markdown",
   "id": "c8d4ce4e",
   "metadata": {},
   "source": [
    "# Knowledge Graph Construction"
   ]
  },
  {
   "cell_type": "code",
   "execution_count": 6,
   "metadata": {},
   "outputs": [
    {
     "name": "stdout",
     "output_type": "stream",
     "text": [
      "Collecting neo4j\n",
      "  Downloading neo4j-5.15.0.tar.gz (196 kB)\n",
      "     ---------------------------------------- 0.0/196.5 kB ? eta -:--:--\n",
      "     -------- ------------------------------ 41.0/196.5 kB 1.9 MB/s eta 0:00:01\n",
      "     -------------------------------------  194.6/196.5 kB 2.4 MB/s eta 0:00:01\n",
      "     -------------------------------------- 196.5/196.5 kB 2.0 MB/s eta 0:00:00\n",
      "  Installing build dependencies: started\n",
      "  Installing build dependencies: finished with status 'done'\n",
      "  Getting requirements to build wheel: started\n",
      "  Getting requirements to build wheel: finished with status 'done'\n",
      "  Installing backend dependencies: started\n",
      "  Installing backend dependencies: finished with status 'done'\n",
      "  Preparing metadata (pyproject.toml): started\n",
      "  Preparing metadata (pyproject.toml): finished with status 'done'\n",
      "Requirement already satisfied: pytz in e:\\anaconda\\envs\\pytorch\\lib\\site-packages (from neo4j) (2023.3.post1)\n",
      "Building wheels for collected packages: neo4j\n",
      "  Building wheel for neo4j (pyproject.toml): started\n",
      "  Building wheel for neo4j (pyproject.toml): finished with status 'done'\n",
      "  Created wheel for neo4j: filename=neo4j-5.15.0-py3-none-any.whl size=272510 sha256=d0ea6ca159a8c73202942db1c70f8aaa95ea50ea1e948184d52e387997d917fd\n",
      "  Stored in directory: c:\\users\\84166\\appdata\\local\\pip\\cache\\wheels\\b5\\1c\\7e\\47445652c3ff85f3f13d0940bd0e40759712f374ef26bfb5f1\n",
      "Successfully built neo4j\n",
      "Installing collected packages: neo4j\n",
      "Successfully installed neo4j-5.15.0\n"
     ]
    }
   ],
   "source": [
    "# !pip install neo4j"
   ]
  },
  {
   "cell_type": "code",
   "execution_count": 7,
   "metadata": {},
   "outputs": [],
   "source": [
    "import pandas as pd\n",
    "from neo4j import GraphDatabase\n",
    "import time\n",
    "\n",
    "# Connect to the Neo4j database\n",
    "uri = \"bolt://localhost:7687\"  \n",
    "username = \"neo4j\"  \n",
    "password = \"00330000\"\n",
    "\n",
    "# Create a Neo4j database connection driver\n",
    "driver = GraphDatabase.driver(uri, auth=(username, password))"
   ]
  },
  {
   "cell_type": "code",
   "execution_count": 4,
   "id": "fd77bbf5",
   "metadata": {},
   "outputs": [],
   "source": [
    "result_df = pd.read_excel('result_df_with_sentiment.xlsx')"
   ]
  },
  {
   "cell_type": "markdown",
   "metadata": {},
   "source": [
    "This part of work processes company data, creating a Neo4j graph database. It establishes relationships between companies based on data from CSV files, including both one-way and two-way connections. Additionally, it tracks and reports the total execution time."
   ]
  },
  {
   "cell_type": "code",
   "execution_count": 10,
   "metadata": {},
   "outputs": [
    {
     "name": "stderr",
     "output_type": "stream",
     "text": [
      "C:\\Users\\84166\\AppData\\Local\\Temp\\ipykernel_16420\\3852314394.py:9: DeprecationWarning: Using a driver after it has been closed is deprecated. Future versions of the driver will raise an error.\n",
      "  with driver.session() as session:\n",
      "Failed to write data to connection IPv4Address(('localhost', 7687)) (ResolvedIPv4Address(('127.0.0.1', 7687)))\n"
     ]
    },
    {
     "name": "stdout",
     "output_type": "stream",
     "text": [
      "Total run time: 40.13 seconds\n"
     ]
    }
   ],
   "source": [
    "# Read company information and create a mapping from ID to stock code\n",
    "df_companies = pd.read_csv('KnowledgeGraph/hidy.nodes.company.csv')\n",
    "id_to_code = dict(zip(df_companies[':ID'], df_companies['code']))\n",
    "\n",
    "# Start timing\n",
    "start_time = time.time()\n",
    "\n",
    "# Create Neo4j graph database\n",
    "with driver.session() as session:\n",
    "    # Create company nodes\n",
    "    for index, row in df_companies.iterrows():\n",
    "        session.run(\"MERGE (:Company {name: $company_name, code: $code})\", \n",
    "                    company_name=row['company_name'], code=row['code'])\n",
    "\n",
    "    # Handle unidirectional relationship types\n",
    "    for rel in ['invest', 'supply']:\n",
    "        df_rel = pd.read_csv(f'KnowledgeGraph/hidy.relationships.{rel}.csv')\n",
    "        for index, row in df_rel.iterrows():\n",
    "            start_code = id_to_code.get(row[':START_ID'])\n",
    "            end_code = id_to_code.get(row[':END_ID'])\n",
    "            if start_code and end_code:\n",
    "                session.run(f\"MATCH (a:Company {{code: $start_code}}), (b:Company {{code: $end_code}}) \"\n",
    "                            f\"MERGE (a)-[:{rel.upper()}]->(b)\",\n",
    "                            start_code=start_code, end_code=end_code)\n",
    "\n",
    "    # Handle bidirectional relationship types\n",
    "    for rel in ['compete', 'cooperate', 'dispute', 'same_industry']:\n",
    "        df_rel = pd.read_csv(f'KnowledgeGraph/hidy.relationships.{rel}.csv')\n",
    "        for index, row in df_rel.iterrows():\n",
    "            start_code = id_to_code.get(row[':START_ID'])\n",
    "            end_code = id_to_code.get(row[':END_ID'])\n",
    "            if start_code and end_code:\n",
    "                session.run(f\"MATCH (a:Company {{code: $start_code}}), (b:Company {{code: $end_code}}) \"\n",
    "                            f\"MERGE (a)-[:{rel.upper()}]->(b) \"\n",
    "                            f\"MERGE (b)-[:{rel.upper()}]->(a)\",\n",
    "                            start_code=start_code, end_code=end_code)\n",
    "\n",
    "# Close the database connection driver\n",
    "driver.close()\n",
    "\n",
    "# Total running time\n",
    "total_run_time = time.time()\n",
    "print(\"Total run time: {:.2f} seconds\".format(total_run_time - start_time))\n"
   ]
  },
  {
   "cell_type": "code",
   "execution_count": null,
   "id": "bf1f1ef1",
   "metadata": {},
   "outputs": [],
   "source": []
  }
 ],
 "metadata": {
  "kernelspec": {
   "display_name": "pytorch",
   "language": "python",
   "name": "python3"
  },
  "language_info": {
   "codemirror_mode": {
    "name": "ipython",
    "version": 3
   },
   "file_extension": ".py",
   "mimetype": "text/x-python",
   "name": "python",
   "nbconvert_exporter": "python",
   "pygments_lexer": "ipython3",
   "version": "3.11.5"
  }
 },
 "nbformat": 4,
 "nbformat_minor": 5
}
